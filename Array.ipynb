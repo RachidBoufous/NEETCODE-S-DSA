{
 "cells": [
  {
   "cell_type": "markdown",
   "metadata": {},
   "source": [
    "# STATIC ARRAYS IN PYTHON\n",
    "\n",
    "    since python doesn't really have a support for static array we will be using a variable to simulate the limited reserved ram cases of a static array\n"
   ]
  },
  {
   "cell_type": "code",
   "execution_count": 285,
   "metadata": {},
   "outputs": [],
   "source": [
    "capacity = 8  # total capacity of the array\n",
    "size = 0  # current size of the array\n",
    "arr = [None] * capacity  # creating an array of size 8"
   ]
  },
  {
   "cell_type": "markdown",
   "metadata": {},
   "source": [
    "## Inserting at end:\n",
    "\n",
    "    inserting at the end of an array will always be O(1), generally reading from an array at any give position will always be O(1) -instant operation-\n"
   ]
  },
  {
   "cell_type": "code",
   "execution_count": 286,
   "metadata": {},
   "outputs": [],
   "source": [
    "def insertEnd(element):\n",
    "    global capacity, size, arr\n",
    "    print(\"Inserting element at end\", size, element)\n",
    "    if size >= capacity:\n",
    "        print(\"Array is full, cannot insert element\")\n",
    "        return False\n",
    "    arr[size] = element\n",
    "    size += 1\n",
    "    return True"
   ]
  },
  {
   "cell_type": "markdown",
   "metadata": {},
   "source": [
    "## Deleting at the End:\n",
    "\n",
    "    - Deleting at the end also is O(1), one property of RAM (Random access memory) is the ability to jump to any given address (position in array) and Read from it.\n"
   ]
  },
  {
   "cell_type": "code",
   "execution_count": 287,
   "metadata": {},
   "outputs": [],
   "source": [
    "def removeEnd(element):\n",
    "    global size, arr\n",
    "    print(\"Removing element at end\", size)\n",
    "    if size == 0:\n",
    "        print(\"Array is empty, cannot remove element\")\n",
    "        return False\n",
    "    size -= 1\n",
    "    arr[size] = None\n",
    "    return True"
   ]
  },
  {
   "cell_type": "code",
   "execution_count": 288,
   "metadata": {},
   "outputs": [
    {
     "name": "stdout",
     "output_type": "stream",
     "text": [
      "Inserting element at end 0 10\n",
      "Inserting element at end 1 12\n",
      "Inserting element at end 2 13\n",
      "Inserting element at end 3 105\n",
      "Inserting element at end 4 14\n",
      "Inserting element at end 5 140\n",
      "Inserting element at end 6 134\n",
      "Inserting element at end 7 10321\n",
      "Inserting element at end 8 10512\n",
      "Array is full, cannot insert element\n"
     ]
    },
    {
     "data": {
      "text/plain": [
       "False"
      ]
     },
     "execution_count": 288,
     "metadata": {},
     "output_type": "execute_result"
    }
   ],
   "source": [
    "insertEnd(10)\n",
    "insertEnd(12)\n",
    "insertEnd(13)\n",
    "insertEnd(105)\n",
    "insertEnd(14)\n",
    "insertEnd(140)\n",
    "insertEnd(134)\n",
    "insertEnd(10321)\n",
    "insertEnd(10512)  # this will not be inserted as the array is full"
   ]
  },
  {
   "cell_type": "code",
   "execution_count": 289,
   "metadata": {},
   "outputs": [
    {
     "name": "stdout",
     "output_type": "stream",
     "text": [
      "[10, 12, 13, 105, 14, 140, 134, 10321]\n"
     ]
    }
   ],
   "source": [
    "print(arr)"
   ]
  },
  {
   "cell_type": "code",
   "execution_count": 290,
   "metadata": {},
   "outputs": [
    {
     "name": "stdout",
     "output_type": "stream",
     "text": [
      "Removing element at end 8\n",
      "[10, 12, 13, 105, 14, 140, 134, None]\n"
     ]
    }
   ],
   "source": [
    "removeEnd(arr)\n",
    "\n",
    "print(arr)"
   ]
  },
  {
   "cell_type": "markdown",
   "metadata": {},
   "source": [
    "## Inserting in Start/Middle\n",
    "\n",
    "    Inserting at any given position in start or end will always be O(n), because we can't do this insertion in a single operation, so it needs n operation in worst case to complete this\n"
   ]
  },
  {
   "cell_type": "code",
   "execution_count": 291,
   "metadata": {},
   "outputs": [],
   "source": [
    "def insertMiddle(element, position):\n",
    "    global size, arr, capacity\n",
    "    if size >= capacity:\n",
    "        print(\"Array is full, cannot insert element\")\n",
    "        return False\n",
    "    # shift all the element from position to right by 1\n",
    "    for i in range(capacity - 1, position, -1):\n",
    "        arr[i] = arr[i-1]\n",
    "    arr[position] = element\n",
    "    size += 1\n",
    "    return True"
   ]
  },
  {
   "cell_type": "code",
   "execution_count": 292,
   "metadata": {},
   "outputs": [
    {
     "name": "stdout",
     "output_type": "stream",
     "text": [
      "arr before inserting in middle:  [10, 12, 13, 105, 14, 140, 134, None]\n"
     ]
    },
    {
     "data": {
      "text/plain": [
       "True"
      ]
     },
     "execution_count": 292,
     "metadata": {},
     "output_type": "execute_result"
    }
   ],
   "source": [
    "print(\"arr before inserting in middle: \", arr)\n",
    "insertMiddle(111, 4)"
   ]
  },
  {
   "cell_type": "code",
   "execution_count": 293,
   "metadata": {},
   "outputs": [
    {
     "name": "stdout",
     "output_type": "stream",
     "text": [
      "[10, 12, 13, 105, 111, 14, 140, 134]\n"
     ]
    }
   ],
   "source": [
    "print(arr)"
   ]
  },
  {
   "cell_type": "markdown",
   "metadata": {},
   "source": [
    "## Deleting in Start/Middle"
   ]
  },
  {
   "cell_type": "code",
   "execution_count": 294,
   "metadata": {},
   "outputs": [],
   "source": [
    "def removeMiddle(position):\n",
    "    global arr, capacity, size\n",
    "    for i in range(position, capacity, 1):\n",
    "        if (i+1 < size):\n",
    "            arr[i] = arr[i+1]\n",
    "    arr[size-1] = None\n",
    "    size -= 1"
   ]
  },
  {
   "cell_type": "code",
   "execution_count": 295,
   "metadata": {},
   "outputs": [
    {
     "name": "stdout",
     "output_type": "stream",
     "text": [
      "arr before deleting in middle:  [10, 12, 13, 105, 111, 14, 140, 134]\n"
     ]
    }
   ],
   "source": [
    "print(\"arr before deleting in middle: \", arr)\n",
    "removeMiddle(4)"
   ]
  },
  {
   "cell_type": "code",
   "execution_count": 296,
   "metadata": {},
   "outputs": [
    {
     "name": "stdout",
     "output_type": "stream",
     "text": [
      "[10, 12, 13, 105, 14, 140, 134, None]\n"
     ]
    }
   ],
   "source": [
    "print(arr)"
   ]
  }
 ],
 "metadata": {
  "kernelspec": {
   "display_name": "Python 3",
   "language": "python",
   "name": "python3"
  },
  "language_info": {
   "codemirror_mode": {
    "name": "ipython",
    "version": 3
   },
   "file_extension": ".py",
   "mimetype": "text/x-python",
   "name": "python",
   "nbconvert_exporter": "python",
   "pygments_lexer": "ipython3",
   "version": "3.8.10"
  }
 },
 "nbformat": 4,
 "nbformat_minor": 2
}
