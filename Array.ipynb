{
 "cells": [
  {
   "cell_type": "markdown",
   "metadata": {},
   "source": [
    "# STATIC ARRAYS IN PYTHON\n",
    "    since python doesn't really have a support for static array we will be using a variable to simulate the limited reserved ram cases of a static array"
   ]
  },
  {
   "cell_type": "code",
   "execution_count": 175,
   "metadata": {},
   "outputs": [],
   "source": [
    "capacity = 8 # total capacity of the array\n",
    "size = 0 # current size of the array\n",
    "arr = [None] * capacity # creating an array of size 8"
   ]
  },
  {
   "cell_type": "markdown",
   "metadata": {},
   "source": [
    "## Inserting at end:\n",
    "    inserting at the end of an array will always be O(1), generally reading from an array at any give position will always be O(1) -instant operation-"
   ]
  },
  {
   "cell_type": "code",
   "execution_count": 176,
   "metadata": {},
   "outputs": [],
   "source": [
    "def insertEnd(arr, element):\n",
    "    global capacity, size\n",
    "    print(\"Inserting element at end\", size, element)\n",
    "    if size >= capacity:\n",
    "        print(\"Array is full, cannot insert element\")\n",
    "        return False\n",
    "    arr[size] = element\n",
    "    size += 1\n",
    "    return True\n"
   ]
  },
  {
   "cell_type": "markdown",
   "metadata": {},
   "source": [
    "## Deleting at the End:\n",
    "    - Deleting at the end also is O(1), one property of RAM (Random access memory) is the ability to jump to any given address (position in array) and Read from it."
   ]
  },
  {
   "cell_type": "code",
   "execution_count": 177,
   "metadata": {},
   "outputs": [],
   "source": [
    "def removeEnd(arr):\n",
    "    global size\n",
    "    print(\"Removing element at end\", size)\n",
    "    if size == 0:\n",
    "        print(\"Array is empty, cannot remove element\")\n",
    "        return False\n",
    "    size -= 1\n",
    "    arr[size] = None\n",
    "    return True\n"
   ]
  },
  {
   "cell_type": "code",
   "execution_count": 178,
   "metadata": {},
   "outputs": [
    {
     "name": "stdout",
     "output_type": "stream",
     "text": [
      "Inserting element at end 0 10\n",
      "Inserting element at end 1 12\n",
      "Inserting element at end 2 13\n",
      "Inserting element at end 3 105\n",
      "Inserting element at end 4 14\n",
      "Inserting element at end 5 140\n",
      "Inserting element at end 6 105\n",
      "Inserting element at end 7 10321\n",
      "Inserting element at end 8 10512\n",
      "Array is full, cannot insert element\n"
     ]
    },
    {
     "data": {
      "text/plain": [
       "False"
      ]
     },
     "execution_count": 178,
     "metadata": {},
     "output_type": "execute_result"
    }
   ],
   "source": [
    "insertEnd(arr,10)\n",
    "insertEnd(arr,12)\n",
    "insertEnd(arr,13)\n",
    "insertEnd(arr,105)\n",
    "insertEnd(arr,14)\n",
    "insertEnd(arr,140)\n",
    "insertEnd(arr,105)\n",
    "insertEnd(arr,10321)\n",
    "insertEnd(arr,10512) # this will not be inserted as the array is full"
   ]
  },
  {
   "cell_type": "code",
   "execution_count": 179,
   "metadata": {},
   "outputs": [
    {
     "name": "stdout",
     "output_type": "stream",
     "text": [
      "[10, 12, 13, 105, 14, 140, 105, 10321]\n"
     ]
    }
   ],
   "source": [
    "print(arr)"
   ]
  },
  {
   "cell_type": "code",
   "execution_count": 180,
   "metadata": {},
   "outputs": [
    {
     "name": "stdout",
     "output_type": "stream",
     "text": [
      "Removing element at end 8\n",
      "[10, 12, 13, 105, 14, 140, 105, None]\n"
     ]
    }
   ],
   "source": [
    "removeEnd(arr)\n",
    "\n",
    "print(arr)"
   ]
  }
 ],
 "metadata": {
  "kernelspec": {
   "display_name": "Python 3",
   "language": "python",
   "name": "python3"
  },
  "language_info": {
   "codemirror_mode": {
    "name": "ipython",
    "version": 3
   },
   "file_extension": ".py",
   "mimetype": "text/x-python",
   "name": "python",
   "nbconvert_exporter": "python",
   "pygments_lexer": "ipython3",
   "version": "3.8.10"
  }
 },
 "nbformat": 4,
 "nbformat_minor": 2
}
