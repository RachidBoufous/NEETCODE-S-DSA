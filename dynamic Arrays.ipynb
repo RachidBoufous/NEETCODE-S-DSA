{
 "cells": [
  {
   "cell_type": "code",
   "execution_count": 2,
   "metadata": {},
   "outputs": [],
   "source": [
    "# Python arrays are dynamic by default, but this is an example of resizing.\n",
    "class Array:\n",
    "    def __init__(self):\n",
    "        self.capacity = 2\n",
    "        self.length = 0\n",
    "        self.arr = [0] * 2 # Array of capacity = 2\n",
    "\n",
    "    # Insert n in the last position of the array\n",
    "    def pushback(self, n):\n",
    "        if self.length == self.capacity:\n",
    "            self.resize()\n",
    "            \n",
    "        # insert at next empty position\n",
    "        self.arr[self.length] = n\n",
    "        self.length += 1\n",
    "\n",
    "    def resize(self):\n",
    "        # Create new array of double capacity\n",
    "        self.capacity = 2 * self.capacity\n",
    "        newArr = [0] * self.capacity \n",
    "        \n",
    "        # Copy elements to newArr\n",
    "        for i in range(self.length):\n",
    "            newArr[i] = self.arr[i]\n",
    "        self.arr = newArr\n",
    "        \n",
    "    # Remove the last element in the array\n",
    "    def popback(self):\n",
    "        if self.length > 0:\n",
    "            self.length -= 1\n",
    "    \n",
    "    # Get value at i-th index\n",
    "    def get(self, i):\n",
    "        if i < self.length:\n",
    "            return self.arr[i]\n",
    "        # Here we would throw an out of bounds exception\n",
    "\n",
    "    # Insert n at i-th index\n",
    "    def insert(self, i, n):\n",
    "        if i < self.length:\n",
    "            self.arr[i] = n\n",
    "            return\n",
    "        # Here we would throw an out of bounds exception       \n",
    "\n",
    "    def print(self):\n",
    "        for i in range(self.length):\n",
    "            print(self.arr[i])\n",
    "        print()"
   ]
  },
  {
   "cell_type": "code",
   "execution_count": 4,
   "metadata": {},
   "outputs": [
    {
     "ename": "TypeError",
     "evalue": "pushback() missing 2 required positional arguments: 'self' and 'n'",
     "output_type": "error",
     "traceback": [
      "\u001b[0;31m---------------------------------------------------------------------------\u001b[0m",
      "\u001b[0;31mTypeError\u001b[0m                                 Traceback (most recent call last)",
      "Cell \u001b[0;32mIn[4], line 2\u001b[0m\n\u001b[1;32m      1\u001b[0m test \u001b[38;5;241m=\u001b[39m Array\n\u001b[0;32m----> 2\u001b[0m \u001b[43mtest\u001b[49m\u001b[38;5;241;43m.\u001b[39;49m\u001b[43mpushback\u001b[49m\u001b[43m(\u001b[49m\u001b[43m)\u001b[49m\n",
      "\u001b[0;31mTypeError\u001b[0m: pushback() missing 2 required positional arguments: 'self' and 'n'"
     ]
    }
   ],
   "source": []
  }
 ],
 "metadata": {
  "kernelspec": {
   "display_name": "Python 3",
   "language": "python",
   "name": "python3"
  },
  "language_info": {
   "codemirror_mode": {
    "name": "ipython",
    "version": 3
   },
   "file_extension": ".py",
   "mimetype": "text/x-python",
   "name": "python",
   "nbconvert_exporter": "python",
   "pygments_lexer": "ipython3",
   "version": "3.8.10"
  }
 },
 "nbformat": 4,
 "nbformat_minor": 2
}
