{
 "cells": [
  {
   "cell_type": "code",
   "execution_count": null,
   "metadata": {},
   "outputs": [],
   "source": [
    "# Python arrays are dynamic by default, but this is an example of resizing.\n",
    "class Array:\n",
    "    def __init__(self):\n",
    "        self.capacity = 2\n",
    "        self.length = 0\n",
    "        self.arr = [0] * 2 # Array of capacity = 2\n",
    "\n",
    "    # Insert n in the last position of the array\n",
    "    def pushback(self, n):\n",
    "        if self.length == self.capacity:\n",
    "            self.resize()\n",
    "            \n",
    "        # insert at next empty position\n",
    "        self.arr[self.length] = n\n",
    "        self.length += 1\n",
    "\n",
    "    def resize(self):\n",
    "        # Create new array of double capacity\n",
    "        self.capacity = 2 * self.capacity\n",
    "        newArr = [0] * self.capacity \n",
    "        \n",
    "        # Copy elements to newArr\n",
    "        for i in range(self.length):\n",
    "            newArr[i] = self.arr[i]\n",
    "        self.arr = newArr\n",
    "        \n",
    "    # Remove the last element in the array\n",
    "    def popback(self):\n",
    "        if self.length > 0:\n",
    "            self.length -= 1\n",
    "    \n",
    "    # Get value at i-th index\n",
    "    def get(self, i):\n",
    "        if i < self.length:\n",
    "            return self.arr[i]\n",
    "        # Here we would throw an out of bounds exception\n",
    "\n",
    "    # Insert n at i-th index\n",
    "    def insert(self, i, n):\n",
    "        if i < self.length:\n",
    "            self.arr[i] = n\n",
    "            return\n",
    "        # Here we would throw an out of bounds exception       \n",
    "\n",
    "    def print(self):\n",
    "        for i in range(self.length):\n",
    "            print(self.arr[i])\n",
    "        print()"
   ]
  }
 ],
 "metadata": {
  "language_info": {
   "name": "python"
  }
 },
 "nbformat": 4,
 "nbformat_minor": 2
}
