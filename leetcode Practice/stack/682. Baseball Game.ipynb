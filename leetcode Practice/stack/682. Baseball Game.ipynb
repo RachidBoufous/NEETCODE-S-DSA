{
 "cells": [
  {
   "cell_type": "markdown",
   "metadata": {},
   "source": [
    "# 682. Baseball Game\n",
    "You are keeping the scores for a baseball game with strange rules. At the beginning of the game, you start with an empty record.\n",
    "\n",
    "You are given a list of strings operations, where operations[i] is the ith operation you must apply to the record and is one of the following:\n",
    "\n",
    "- An integer x.\n",
    "Record a new score of x.\n",
    "- '+'.\n",
    "Record a new score that is the sum of the previous two scores.\n",
    "- 'D'.\n",
    "Record a new score that is the double of the previous score.\n",
    "- 'C'.\n",
    "Invalidate the previous score, removing it from the record.\n",
    "Return the sum of all the scores on the record after applying all the operations.\n",
    "\n",
    "The test cases are generated such that the answer and all intermediate calculations fit in a 32-bit integer and that all operations are valid.\n",
    "\n",
    "\n"
   ]
  },
  {
   "cell_type": "code",
   "execution_count": 49,
   "metadata": {},
   "outputs": [],
   "source": [
    "ops =  [\"1\",\"C\",\"-62\",\"-45\",\"-68\"]"
   ]
  },
  {
   "cell_type": "code",
   "execution_count": 57,
   "metadata": {},
   "outputs": [
    {
     "name": "stdout",
     "output_type": "stream",
     "text": [
      "normal digit\n",
      "pop - C\n",
      "[-62, -45, -68]\n"
     ]
    }
   ],
   "source": [
    "record = []\n",
    "for i in range(len(ops)):\n",
    "\n",
    "    if ops[i].isdigit():\n",
    "        record.append(int(ops[i]))\n",
    "        print(\"normal digit\")\n",
    "    elif ops[i].startswith(\"-\") and ops[i][1:].isdigit():\n",
    "        record.append(int(ops[i]))\n",
    "    else:\n",
    "        if ops[i] == \"C\":\n",
    "            print(\"pop - C\")\n",
    "            record.pop()\n",
    "            # finish\n",
    "        elif ops[i] == \"D\":\n",
    "            print(\"double - D\")\n",
    "            record.append(record[-1] * 2)\n",
    "        elif ops[i] == \"+\":\n",
    "            record.append(record[-1] + record[-2])\n",
    "\n",
    "print(record)"
   ]
  },
  {
   "cell_type": "code",
   "execution_count": 58,
   "metadata": {},
   "outputs": [
    {
     "name": "stdout",
     "output_type": "stream",
     "text": [
      "-175\n"
     ]
    }
   ],
   "source": [
    "print(sum(record))"
   ]
  },
  {
   "cell_type": "code",
   "execution_count": 55,
   "metadata": {},
   "outputs": [
    {
     "name": "stdout",
     "output_type": "stream",
     "text": [
      "-62 is negative\n",
      "new value:  -62\n"
     ]
    }
   ],
   "source": [
    "value = \"-62\"\n",
    "\n",
    "if value[0] == \"-\":\n",
    "    print(\"{} is negative\".format(value))\n",
    "    newValue = int(value)\n",
    "    print(\"new value:  {}\".format(newValue))\n"
   ]
  },
  {
   "cell_type": "code",
   "execution_count": null,
   "metadata": {},
   "outputs": [],
   "source": []
  }
 ],
 "metadata": {
  "kernelspec": {
   "display_name": "Python 3",
   "language": "python",
   "name": "python3"
  },
  "language_info": {
   "codemirror_mode": {
    "name": "ipython",
    "version": 3
   },
   "file_extension": ".py",
   "mimetype": "text/x-python",
   "name": "python",
   "nbconvert_exporter": "python",
   "pygments_lexer": "ipython3",
   "version": "3.8.10"
  }
 },
 "nbformat": 4,
 "nbformat_minor": 2
}
