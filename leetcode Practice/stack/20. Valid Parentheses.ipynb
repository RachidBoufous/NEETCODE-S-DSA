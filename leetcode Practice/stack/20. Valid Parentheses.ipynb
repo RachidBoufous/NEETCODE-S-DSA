{
 "cells": [
  {
   "cell_type": "markdown",
   "metadata": {},
   "source": [
    "# 20. Valid Parentheses\n",
    "\n",
    "Given a string s containing just the characters '(', ')', '{', '}', '[' and ']', determine if the input string is valid.\n",
    "\n",
    "An input string is valid if:\n",
    "\n",
    "Open brackets must be closed by the same type of brackets.\n",
    "Open brackets must be closed in the correct order.\n",
    "Every close bracket has a corresponding open bracket of the same type.\n",
    "\n",
    "\n",
    "Example 1:\n",
    "\n",
    "Input: s = \"()\"\n",
    "Output: true\n",
    "\n",
    "Example 2:\n",
    "\n",
    "Input: s = \"()[]{}\"\n",
    "Output: true\n",
    "\n",
    "Example 3:\n",
    "\n",
    "Input: s = \"(]\"\n",
    "Output: false\n",
    "\n",
    "\n",
    "Constraints:\n",
    "\n",
    "1 <= s.length <= 104\n",
    "s consists of parentheses only '()[]{}'."
   ]
  },
  {
   "cell_type": "code",
   "execution_count": 8,
   "metadata": {},
   "outputs": [
    {
     "name": "stdout",
     "output_type": "stream",
     "text": [
      "not valid\n"
     ]
    }
   ],
   "source": [
    "s = \"{}))()\"\n",
    "dict = {}\n",
    "\n",
    "if len(s) % 2 == 1:\n",
    "    result = False\n",
    "\n",
    "left_p, right_p, left_s, right_s, left_c, right_c = 0,0,0,0,0,0\n",
    "\n",
    "for i in s:\n",
    "    if i == '(':\n",
    "        left_p += 1\n",
    "    elif i == ')':\n",
    "        right_p += 1\n",
    "    elif i == '[':\n",
    "        left_s += 1\n",
    "    elif i == ']':\n",
    "        right_s += 1\n",
    "    elif i == '{':\n",
    "        left_c += 1\n",
    "    elif i == '}':\n",
    "        right_c += 1\n",
    "\n",
    "if (left_p == right_p  and left_s == right_s and left_c == right_c):\n",
    "    print(\"valid\")\n",
    "else:\n",
    "    print(\"not valid\")\n",
    "\n"
   ]
  },
  {
   "cell_type": "code",
   "execution_count": null,
   "metadata": {},
   "outputs": [],
   "source": []
  }
 ],
 "metadata": {
  "kernelspec": {
   "display_name": "Python 3",
   "language": "python",
   "name": "python3"
  },
  "language_info": {
   "codemirror_mode": {
    "name": "ipython",
    "version": 3
   },
   "file_extension": ".py",
   "mimetype": "text/x-python",
   "name": "python",
   "nbconvert_exporter": "python",
   "pygments_lexer": "ipython3",
   "version": "3.8.10"
  }
 },
 "nbformat": 4,
 "nbformat_minor": 2
}
