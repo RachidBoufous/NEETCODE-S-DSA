{
 "cells": [
  {
   "cell_type": "markdown",
   "metadata": {},
   "source": [
    "# 26. Remove Duplicates from Sorted Array\n",
    "https://leetcode.com/problems/remove-duplicates-from-sorted-array/description/"
   ]
  },
  {
   "cell_type": "code",
   "execution_count": 1,
   "metadata": {},
   "outputs": [],
   "source": [
    "nums = [0,0,1,1,1,2,2,3,3,4]"
   ]
  },
  {
   "cell_type": "code",
   "execution_count": 16,
   "metadata": {},
   "outputs": [
    {
     "name": "stdout",
     "output_type": "stream",
     "text": [
      "[0, 1, 2, 3, 4, 4] 5\n"
     ]
    }
   ],
   "source": [
    "j = 1 # it is granted to exist at least 1 unique element. we gonna use this one also as an index\n",
    "for i in range(1,len(nums)):\n",
    "    # if the element are not the same, then move up and also inc j with it, j is serving as pivot point to update\n",
    "    # the override the number in case they are the same, but also keeps moving the numbers are not the same\n",
    "    # allowing j to be the numbers of unique elements in the list.\n",
    "    if nums[i] != nums[i-1]: \n",
    "        nums[j] = nums[i] \n",
    "        # here we will be updating the numbers when they are only different from each other, \n",
    "        # j sometimes is staying behind in case we encounter a dup number, and will be overriding the number once we exit the set of duplicated nums\n",
    "        j+=1\n",
    "\n",
    "print(nums, j)"
   ]
  }
 ],
 "metadata": {
  "kernelspec": {
   "display_name": "Python 3",
   "language": "python",
   "name": "python3"
  },
  "language_info": {
   "codemirror_mode": {
    "name": "ipython",
    "version": 3
   },
   "file_extension": ".py",
   "mimetype": "text/x-python",
   "name": "python",
   "nbconvert_exporter": "python",
   "pygments_lexer": "ipython3",
   "version": "3.8.10"
  }
 },
 "nbformat": 4,
 "nbformat_minor": 2
}
