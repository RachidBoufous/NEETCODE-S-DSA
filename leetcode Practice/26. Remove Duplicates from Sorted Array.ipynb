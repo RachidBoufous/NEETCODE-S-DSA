{
 "cells": [
  {
   "cell_type": "markdown",
   "metadata": {},
   "source": [
    "# 26. Remove Duplicates from Sorted Array\n",
    "https://leetcode.com/problems/remove-duplicates-from-sorted-array/description/"
   ]
  },
  {
   "cell_type": "code",
   "execution_count": 1,
   "metadata": {},
   "outputs": [],
   "source": [
    "nums = [0,0,1,1,1,2,2,3,3,4]"
   ]
  },
  {
   "cell_type": "code",
   "execution_count": 5,
   "metadata": {},
   "outputs": [
    {
     "name": "stdout",
     "output_type": "stream",
     "text": [
      "0\n",
      "0\n",
      "1\n",
      "1\n",
      "1\n",
      "2\n",
      "2\n",
      "3\n",
      "3\n",
      "4\n"
     ]
    }
   ],
   "source": [
    "# modify the list to remove or displace the duplicated elements to the end\n",
    "for i in range(len(nums)):\n",
    "    print(nums[i])"
   ]
  },
  {
   "cell_type": "code",
   "execution_count": 15,
   "metadata": {},
   "outputs": [
    {
     "name": "stdout",
     "output_type": "stream",
     "text": [
      "found a duplicated 1 at index 0\n",
      "found a duplicated 1 at index 1\n",
      "found a duplicated 3 at index 3\n",
      "found a duplicated 4 at index 4\n"
     ]
    },
    {
     "ename": "IndexError",
     "evalue": "list index out of range",
     "output_type": "error",
     "traceback": [
      "\u001b[0;31m---------------------------------------------------------------------------\u001b[0m",
      "\u001b[0;31mIndexError\u001b[0m                                Traceback (most recent call last)",
      "Cell \u001b[0;32mIn[15], line 3\u001b[0m\n\u001b[1;32m      1\u001b[0m \u001b[38;5;66;03m# now we need to find a way to detect the duplicated elements\u001b[39;00m\n\u001b[1;32m      2\u001b[0m \u001b[38;5;28;01mfor\u001b[39;00m i \u001b[38;5;129;01min\u001b[39;00m \u001b[38;5;28mrange\u001b[39m(\u001b[38;5;28mlen\u001b[39m(nums)\u001b[38;5;241m-\u001b[39m\u001b[38;5;241m1\u001b[39m):\n\u001b[0;32m----> 3\u001b[0m     \u001b[38;5;28;01mif\u001b[39;00m (nums[i] \u001b[38;5;241m==\u001b[39m \u001b[43mnums\u001b[49m\u001b[43m[\u001b[49m\u001b[43mi\u001b[49m\u001b[38;5;241;43m+\u001b[39;49m\u001b[38;5;241;43m1\u001b[39;49m\u001b[43m]\u001b[49m):\n\u001b[1;32m      4\u001b[0m         nums\u001b[38;5;241m.\u001b[39mpop(i)\n\u001b[1;32m      5\u001b[0m         \u001b[38;5;28mprint\u001b[39m(\u001b[38;5;124m\"\u001b[39m\u001b[38;5;124mfound a duplicated \u001b[39m\u001b[38;5;132;01m{}\u001b[39;00m\u001b[38;5;124m at index \u001b[39m\u001b[38;5;132;01m{}\u001b[39;00m\u001b[38;5;124m\"\u001b[39m\u001b[38;5;241m.\u001b[39mformat(nums[i\u001b[38;5;241m+\u001b[39m\u001b[38;5;241m1\u001b[39m], i) )\n",
      "\u001b[0;31mIndexError\u001b[0m: list index out of range"
     ]
    }
   ],
   "source": [
    "# now we need to find a way to detect the duplicated elements\n",
    "for i in range(len(nums)-1):\n",
    "    if (nums[i] == nums[i+1]):\n",
    "        print(\"found a duplicated {} at index {}\".format(nums[i+1], i) )"
   ]
  },
  {
   "cell_type": "code",
   "execution_count": 14,
   "metadata": {},
   "outputs": [
    {
     "name": "stdout",
     "output_type": "stream",
     "text": [
      "[0, 0, 1, 1, 1, 2, 2, 3, 3, 4]\n",
      "[0, 0, 1, 1, 1, 2, 2, 3, 3, 4]\n",
      "[0, 0, 1, 1, 1, 2, 2, 3, 3, 4]\n",
      "[0, 0, 1, 1, 1, 2, 2, 3, 3, 4]\n",
      "[0, 0, 1, 1, 1, 2, 2, 3, 3, 4]\n",
      "unique elements 5\n"
     ]
    }
   ],
   "source": [
    "uniqueNums_count = 1 # cuz there is at 1 unique element at the list\n",
    "# lets get the number of the unique elements\n",
    "for i in range(len(nums)-1): # nums-1 so we avoid getting \"index out of range error -stepping out of array-\"\n",
    "    if nums[i] != nums[i+1]:\n",
    "        uniqueNums_count += 1\n",
    "    else:\n",
    "        nums[i] = nums[i+1]\n",
    "        print(nums)\n",
    "\n",
    "print(\"unique elements {}\".format(int(uniqueNums_count)))"
   ]
  },
  {
   "cell_type": "code",
   "execution_count": 13,
   "metadata": {},
   "outputs": [
    {
     "name": "stdout",
     "output_type": "stream",
     "text": [
      "[0, 0, 1, 1, 1, 2, 2, 3, 3, 4]\n"
     ]
    }
   ],
   "source": [
    "print(nums)"
   ]
  }
 ],
 "metadata": {
  "kernelspec": {
   "display_name": "Python 3",
   "language": "python",
   "name": "python3"
  },
  "language_info": {
   "codemirror_mode": {
    "name": "ipython",
    "version": 3
   },
   "file_extension": ".py",
   "mimetype": "text/x-python",
   "name": "python",
   "nbconvert_exporter": "python",
   "pygments_lexer": "ipython3",
   "version": "3.8.10"
  }
 },
 "nbformat": 4,
 "nbformat_minor": 2
}
